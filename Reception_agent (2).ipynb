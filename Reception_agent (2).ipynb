{
 "cells": [
  {
   "cell_type": "code",
   "execution_count": 1,
   "metadata": {},
   "outputs": [
    {
     "name": "stdout",
     "output_type": "stream",
     "text": [
      "Requirement already satisfied: langchain in c:\\users\\admin\\appdata\\local\\programs\\python\\python313\\lib\\site-packages (0.3.19)\n",
      "Requirement already satisfied: langgraph in c:\\users\\admin\\appdata\\local\\programs\\python\\python313\\lib\\site-packages (0.3.14)\n",
      "Requirement already satisfied: langchain-anthropic in c:\\users\\admin\\appdata\\local\\programs\\python\\python313\\lib\\site-packages (0.3.10)\n",
      "Requirement already satisfied: langchain-core<1.0.0,>=0.3.35 in c:\\users\\admin\\appdata\\local\\programs\\python\\python313\\lib\\site-packages (from langchain) (0.3.45)\n",
      "Requirement already satisfied: langchain-text-splitters<1.0.0,>=0.3.6 in c:\\users\\admin\\appdata\\local\\programs\\python\\python313\\lib\\site-packages (from langchain) (0.3.6)\n",
      "Requirement already satisfied: langsmith<0.4,>=0.1.17 in c:\\users\\admin\\appdata\\local\\programs\\python\\python313\\lib\\site-packages (from langchain) (0.3.11)\n",
      "Requirement already satisfied: pydantic<3.0.0,>=2.7.4 in c:\\users\\admin\\appdata\\local\\programs\\python\\python313\\lib\\site-packages (from langchain) (2.10.6)\n",
      "Requirement already satisfied: SQLAlchemy<3,>=1.4 in c:\\users\\admin\\appdata\\local\\programs\\python\\python313\\lib\\site-packages (from langchain) (2.0.37)\n",
      "Requirement already satisfied: requests<3,>=2 in c:\\users\\admin\\appdata\\local\\programs\\python\\python313\\lib\\site-packages (from langchain) (2.32.3)\n",
      "Requirement already satisfied: PyYAML>=5.3 in c:\\users\\admin\\appdata\\local\\programs\\python\\python313\\lib\\site-packages (from langchain) (6.0.2)\n",
      "Requirement already satisfied: aiohttp<4.0.0,>=3.8.3 in c:\\users\\admin\\appdata\\local\\programs\\python\\python313\\lib\\site-packages (from langchain) (3.11.12)\n",
      "Requirement already satisfied: tenacity!=8.4.0,<10,>=8.1.0 in c:\\users\\admin\\appdata\\local\\programs\\python\\python313\\lib\\site-packages (from langchain) (9.0.0)\n",
      "Requirement already satisfied: numpy<3,>=1.26.2 in c:\\users\\admin\\appdata\\local\\programs\\python\\python313\\lib\\site-packages (from langchain) (2.2.2)\n",
      "Requirement already satisfied: langgraph-checkpoint<3.0.0,>=2.0.10 in c:\\users\\admin\\appdata\\local\\programs\\python\\python313\\lib\\site-packages (from langgraph) (2.0.12)\n",
      "Requirement already satisfied: langgraph-prebuilt<0.2,>=0.1.1 in c:\\users\\admin\\appdata\\local\\programs\\python\\python313\\lib\\site-packages (from langgraph) (0.1.1)\n",
      "Requirement already satisfied: langgraph-sdk<0.2.0,>=0.1.42 in c:\\users\\admin\\appdata\\local\\programs\\python\\python313\\lib\\site-packages (from langgraph) (0.1.51)\n",
      "Requirement already satisfied: anthropic<1,>=0.49.0 in c:\\users\\admin\\appdata\\local\\programs\\python\\python313\\lib\\site-packages (from langchain-anthropic) (0.49.0)\n",
      "Requirement already satisfied: aiohappyeyeballs>=2.3.0 in c:\\users\\admin\\appdata\\local\\programs\\python\\python313\\lib\\site-packages (from aiohttp<4.0.0,>=3.8.3->langchain) (2.4.4)\n",
      "Requirement already satisfied: aiosignal>=1.1.2 in c:\\users\\admin\\appdata\\local\\programs\\python\\python313\\lib\\site-packages (from aiohttp<4.0.0,>=3.8.3->langchain) (1.3.2)\n",
      "Requirement already satisfied: attrs>=17.3.0 in c:\\users\\admin\\appdata\\local\\programs\\python\\python313\\lib\\site-packages (from aiohttp<4.0.0,>=3.8.3->langchain) (25.1.0)\n",
      "Requirement already satisfied: frozenlist>=1.1.1 in c:\\users\\admin\\appdata\\local\\programs\\python\\python313\\lib\\site-packages (from aiohttp<4.0.0,>=3.8.3->langchain) (1.5.0)\n",
      "Requirement already satisfied: multidict<7.0,>=4.5 in c:\\users\\admin\\appdata\\local\\programs\\python\\python313\\lib\\site-packages (from aiohttp<4.0.0,>=3.8.3->langchain) (6.1.0)\n",
      "Requirement already satisfied: propcache>=0.2.0 in c:\\users\\admin\\appdata\\local\\programs\\python\\python313\\lib\\site-packages (from aiohttp<4.0.0,>=3.8.3->langchain) (0.2.1)\n",
      "Requirement already satisfied: yarl<2.0,>=1.17.0 in c:\\users\\admin\\appdata\\local\\programs\\python\\python313\\lib\\site-packages (from aiohttp<4.0.0,>=3.8.3->langchain) (1.18.3)\n",
      "Requirement already satisfied: anyio<5,>=3.5.0 in c:\\users\\admin\\appdata\\local\\programs\\python\\python313\\lib\\site-packages (from anthropic<1,>=0.49.0->langchain-anthropic) (4.8.0)\n",
      "Requirement already satisfied: distro<2,>=1.7.0 in c:\\users\\admin\\appdata\\local\\programs\\python\\python313\\lib\\site-packages (from anthropic<1,>=0.49.0->langchain-anthropic) (1.9.0)\n",
      "Requirement already satisfied: httpx<1,>=0.23.0 in c:\\users\\admin\\appdata\\local\\programs\\python\\python313\\lib\\site-packages (from anthropic<1,>=0.49.0->langchain-anthropic) (0.28.1)\n",
      "Requirement already satisfied: jiter<1,>=0.4.0 in c:\\users\\admin\\appdata\\local\\programs\\python\\python313\\lib\\site-packages (from anthropic<1,>=0.49.0->langchain-anthropic) (0.8.2)\n",
      "Requirement already satisfied: sniffio in c:\\users\\admin\\appdata\\local\\programs\\python\\python313\\lib\\site-packages (from anthropic<1,>=0.49.0->langchain-anthropic) (1.3.1)\n",
      "Requirement already satisfied: typing-extensions<5,>=4.10 in c:\\users\\admin\\appdata\\local\\programs\\python\\python313\\lib\\site-packages (from anthropic<1,>=0.49.0->langchain-anthropic) (4.12.2)\n",
      "Requirement already satisfied: jsonpatch<2.0,>=1.33 in c:\\users\\admin\\appdata\\local\\programs\\python\\python313\\lib\\site-packages (from langchain-core<1.0.0,>=0.3.35->langchain) (1.33)\n",
      "Requirement already satisfied: packaging<25,>=23.2 in c:\\users\\admin\\appdata\\local\\programs\\python\\python313\\lib\\site-packages (from langchain-core<1.0.0,>=0.3.35->langchain) (24.2)\n",
      "Requirement already satisfied: msgpack<2.0.0,>=1.1.0 in c:\\users\\admin\\appdata\\local\\programs\\python\\python313\\lib\\site-packages (from langgraph-checkpoint<3.0.0,>=2.0.10->langgraph) (1.1.0)\n",
      "Requirement already satisfied: orjson>=3.10.1 in c:\\users\\admin\\appdata\\local\\programs\\python\\python313\\lib\\site-packages (from langgraph-sdk<0.2.0,>=0.1.42->langgraph) (3.10.15)\n",
      "Requirement already satisfied: requests-toolbelt<2.0.0,>=1.0.0 in c:\\users\\admin\\appdata\\local\\programs\\python\\python313\\lib\\site-packages (from langsmith<0.4,>=0.1.17->langchain) (1.0.0)\n",
      "Requirement already satisfied: zstandard<0.24.0,>=0.23.0 in c:\\users\\admin\\appdata\\local\\programs\\python\\python313\\lib\\site-packages (from langsmith<0.4,>=0.1.17->langchain) (0.23.0)\n",
      "Requirement already satisfied: annotated-types>=0.6.0 in c:\\users\\admin\\appdata\\local\\programs\\python\\python313\\lib\\site-packages (from pydantic<3.0.0,>=2.7.4->langchain) (0.7.0)\n",
      "Requirement already satisfied: pydantic-core==2.27.2 in c:\\users\\admin\\appdata\\local\\programs\\python\\python313\\lib\\site-packages (from pydantic<3.0.0,>=2.7.4->langchain) (2.27.2)\n",
      "Requirement already satisfied: charset-normalizer<4,>=2 in c:\\users\\admin\\appdata\\local\\programs\\python\\python313\\lib\\site-packages (from requests<3,>=2->langchain) (3.4.1)\n",
      "Requirement already satisfied: idna<4,>=2.5 in c:\\users\\admin\\appdata\\local\\programs\\python\\python313\\lib\\site-packages (from requests<3,>=2->langchain) (3.10)\n",
      "Requirement already satisfied: urllib3<3,>=1.21.1 in c:\\users\\admin\\appdata\\local\\programs\\python\\python313\\lib\\site-packages (from requests<3,>=2->langchain) (2.3.0)\n",
      "Requirement already satisfied: certifi>=2017.4.17 in c:\\users\\admin\\appdata\\local\\programs\\python\\python313\\lib\\site-packages (from requests<3,>=2->langchain) (2025.1.31)\n",
      "Requirement already satisfied: greenlet!=0.4.17 in c:\\users\\admin\\appdata\\local\\programs\\python\\python313\\lib\\site-packages (from SQLAlchemy<3,>=1.4->langchain) (3.1.1)\n",
      "Requirement already satisfied: httpcore==1.* in c:\\users\\admin\\appdata\\local\\programs\\python\\python313\\lib\\site-packages (from httpx<1,>=0.23.0->anthropic<1,>=0.49.0->langchain-anthropic) (1.0.7)\n",
      "Requirement already satisfied: h11<0.15,>=0.13 in c:\\users\\admin\\appdata\\local\\programs\\python\\python313\\lib\\site-packages (from httpcore==1.*->httpx<1,>=0.23.0->anthropic<1,>=0.49.0->langchain-anthropic) (0.14.0)\n",
      "Requirement already satisfied: jsonpointer>=1.9 in c:\\users\\admin\\appdata\\local\\programs\\python\\python313\\lib\\site-packages (from jsonpatch<2.0,>=1.33->langchain-core<1.0.0,>=0.3.35->langchain) (3.0.0)\n"
     ]
    }
   ],
   "source": [
    "! pip install langchain langgraph langchain-anthropic"
   ]
  },
  {
   "cell_type": "code",
   "execution_count": 2,
   "metadata": {},
   "outputs": [],
   "source": [
    "import getpass\n",
    "import os\n",
    "if \"ANTHROPIC_API_KEY\" not in os.environ:\n",
    "    os.environ[\"ANTHROPIC_API_KEY\"] = getpass.getpass(\"Enter your Anthropic API key: \")\n"
   ]
  },
  {
   "cell_type": "code",
   "execution_count": 3,
   "metadata": {},
   "outputs": [],
   "source": [
    "from langchain_anthropic import ChatAnthropic\n",
    "llm = ChatAnthropic(model=\"claude-3-5-sonnet-20241022\", temperature=0)"
   ]
  },
  {
   "cell_type": "code",
   "execution_count": 4,
   "metadata": {},
   "outputs": [],
   "source": [
    "import sqlite3\n",
    "\n",
    "def recreate_appointments_table():\n",
    "    conn = sqlite3.connect(\"hospital.db\")\n",
    "    c = conn.cursor()\n",
    "    c.execute(\"DROP TABLE IF EXISTS appointments\")\n",
    "    c.execute('''\n",
    "        CREATE TABLE appointments (\n",
    "            id INTEGER PRIMARY KEY AUTOINCREMENT,\n",
    "            patient_name TEXT,\n",
    "            age INTEGER,\n",
    "            symptoms TEXT,\n",
    "            doctor TEXT,\n",
    "            date TEXT,\n",
    "            time TEXT\n",
    "        )\n",
    "    ''')\n",
    "    conn.commit()\n",
    "    conn.close()\n",
    "\n",
    "recreate_appointments_table()\n",
    "\n",
    "# doctor_schedule = {\n",
    "#     \"Dr. Rahul Mehra (Dermatologist)\": [\"10:00\", \"11:00\", \"14:00\"],\n",
    "#     \"Dr. Alice Smith (Neurologist)\": [\"09:00\", \"13:00\", \"15:00\"],\n",
    "#     \"Dr. John Lee (General Physician)\": [\"10:00\", \"12:00\", \"16:00\"],\n",
    "#     \"Dr. Priya Patel (General Physician)\": [\"09:30\", \"11:30\", \"14:30\"],\n",
    "#     \"Dr. Emily Wong (Pulmonologist)\":[\"10:00\", \"12:00\", \"16:00\"]\n",
    "# }\n",
    "doctor_info = {\n",
    "    \"Dr. Rahul Mehra (Dermatologist)\": {\n",
    "        \"symptoms\": [\"skin rash\", \"acne\", \"eczema\"],\n",
    "        \"schedule\": [\"10:00\", \"11:00\", \"14:00\"]\n",
    "    },\n",
    "    \"Dr. Alice Smith (Neurologist)\": {\n",
    "        \"symptoms\": [\"headache\", \"dizziness\"],\n",
    "        \"schedule\": [\"09:00\", \"13:00\", \"15:00\"]\n",
    "    },\n",
    "    \"Dr. John Lee (General Physician)\": {\n",
    "        \"symptoms\": [\"fever\", \"body ache\", \"cold\"],\n",
    "        \"schedule\": [\"10:00\", \"12:00\", \"16:00\"]\n",
    "    },\n",
    "    \"Dr. Priya Patel (General Physician)\": {\n",
    "        \"symptoms\": [\"general issues\"],\n",
    "        \"schedule\": [\"09:30\", \"11:30\", \"14:30\"]\n",
    "    },\n",
    "    \"Dr. Emily Wong (Pulmonologist)\": {\n",
    "        \"symptoms\": [\"cough\", \"shortness of breath\"],\n",
    "        \"schedule\": [\"10:00\", \"12:00\", \"16:00\"]\n",
    "    }\n",
    "}\n"
   ]
  },
  {
   "cell_type": "code",
   "execution_count": 5,
   "metadata": {},
   "outputs": [],
   "source": [
    "# state schema defined to hold info\n",
    "from pydantic import BaseModel, Field\n",
    "from typing import Optional, Literal\n",
    "\n",
    "class PatientDetails(BaseModel):\n",
    "    name: Optional[str]\n",
    "    age: Optional[int]\n",
    "    symptoms: Optional[str]\n",
    "\n",
    "class AppointmentDetails(BaseModel):\n",
    "    date: Optional[str]\n",
    "    time: Optional[str]\n",
    "\n",
    "class State(BaseModel):\n",
    "    user_input: str\n",
    "    patient_details: Optional[PatientDetails] = None\n",
    "    appointment_details: Optional[AppointmentDetails] = None\n",
    "    intent: Optional[str] = None\n",
    "    next_action: Optional[str] = None\n",
    "    has_history: Optional[bool] = None\n",
    "    already_has_appointment: Optional[bool] = None\n",
    "    is_available: Optional[bool] = None\n",
    "    doctor_recommendation: Optional[str] = None\n",
    "    final_response: Optional[str] = None\n",
    "    \n"
   ]
  },
  {
   "cell_type": "code",
   "execution_count": 6,
   "metadata": {},
   "outputs": [],
   "source": [
    "# define structured outputs to pass data from llm based step\n",
    "class ExtractedEntitiesOutput(BaseModel):\n",
    "    patient_details: PatientDetails = Field(\n",
    "        description=\"Information about the patient, including name, age, and symptoms.\"\n",
    "    )\n",
    "    appointment_details: AppointmentDetails = Field(\n",
    "        description=\"Preferred appointment date and time from the user.\"\n",
    "    )\n",
    "\n",
    "class IntentClassifierOutput(BaseModel):\n",
    "    intent: str = Field(\n",
    "        description=\"The tool name that should be used to handle the user's question.\"\n",
    "    )\n",
    "    intent_classifier_analysis: Optional[str] = Field(\n",
    "        default=None, description=\"A summary of the intent classifier.\"\n",
    "    )\n",
    "\n",
    "class RoutingDecisionOutput(BaseModel):\n",
    "    next_action: Literal[\n",
    "        \"check_patient_history\",\n",
    "        \"check_existing_appointment\",\n",
    "        \"collect_info\",\n",
    "    ] = Field(\n",
    "        description=\"The next step the agent should take in the workflow.\"\n",
    "    )"
   ]
  },
  {
   "cell_type": "code",
   "execution_count": 7,
   "metadata": {},
   "outputs": [],
   "source": [
    "#  prompt used to guide llm \n",
    "from langchain_core.prompts import ChatPromptTemplate\n",
    "\n",
    "entity_prompt = ChatPromptTemplate.from_template(\"\"\"\n",
    "You are a helpful assistant that extracts patient and appointment info.\n",
    "\n",
    "Extract the following from the input:\n",
    "- Name (if available or use a placeholder like \"Unknown\")\n",
    "- Age (if mentioned or leave as null)\n",
    "- Symptoms\n",
    "- Date and Time (for the appointment)\n",
    "\n",
    "Return as JSON like this:\n",
    "{{\n",
    "  \"patient_details\": {{\n",
    "    \"name\": \"John Doe\",\n",
    "    \"age\": 30,\n",
    "    \"symptoms\": \"headache\"\n",
    "  }},\n",
    "  \"appointment_details\": {{\n",
    "    \"date\": \"2023-10-20\",\n",
    "    \"time\": \"15:00\"\n",
    "  }}\n",
    "}}\n",
    "\n",
    "Input: {input}\n",
    "\"\"\")\n",
    "\n",
    "intent_prompt = ChatPromptTemplate.from_template(\"\"\"\n",
    "Classify the user's intent into one of the following:\n",
    "- book_appointment\n",
    "- cancel_appointment\n",
    "- reschedule_appointment\n",
    "- inquire\n",
    "- other\n",
    "\n",
    "Input: {input}\n",
    "Intent:\n",
    "\"\"\")\n",
    "\n",
    "router_prompt = ChatPromptTemplate.from_template(\"\"\"\n",
    "Based on the user intent: {intent}, choose the next action:\n",
    "- collect_missing_info\n",
    "- check_patient_history\n",
    "- check_existing_appointment\n",
    "- cancel_appointment\n",
    "- reschedule_appointment\n",
    "\n",
    "Respond with ONLY one of the above options.\n",
    "\"\"\")"
   ]
  },
  {
   "cell_type": "code",
   "execution_count": 8,
   "metadata": {},
   "outputs": [],
   "source": [
    "# every function take a state and return and update it.\n",
    "def state_initializer(state: dict) -> State:\n",
    "    return State(user_input=state.user_input)\n",
    "\n",
    "def entity_extractor(state: State) -> State:\n",
    "    prompt = entity_prompt.format(input=state.user_input)\n",
    "    response = llm.invoke(prompt).content\n",
    "\n",
    "    import json\n",
    "    parsed = json.loads(response)\n",
    "\n",
    "    state.patient_details = PatientDetails(**parsed.get(\"patient_details\", {}))\n",
    "    state.appointment_details = AppointmentDetails(**parsed.get(\"appointment_details\", {}))\n",
    "    return {\n",
    "        \"patient_details\":state.patient_details,\n",
    "        \"appointment_details\":state.appointment_details\n",
    "    }\n",
    "\n",
    "def intent_classifier(state: State) -> State:\n",
    "    prompt = intent_prompt.format(input=state.user_input)\n",
    "    state.intent = llm.invoke(prompt).content.strip()\n",
    "    return {\n",
    "        \"intent\":state.intent\n",
    "    }\n",
    "\n",
    "def agent_router(state: State) -> State:\n",
    "    prompt = router_prompt.format(\n",
    "        intent=state.intent,\n",
    "    )\n",
    "    response = llm.invoke(prompt).content.strip()\n",
    "    state.next_action = response\n",
    "    return state"
   ]
  },
  {
   "cell_type": "code",
   "execution_count": 9,
   "metadata": {},
   "outputs": [],
   "source": [
    "# recomend doctor based on symptoms as per doctor_info\n",
    "def recommend_doctor(state: State) -> State:\n",
    "    symptom = (\n",
    "        state.patient_details.symptoms.lower()\n",
    "        if state.patient_details and state.patient_details.symptoms\n",
    "        else \"\"\n",
    "    )\n",
    "\n",
    "    for doctor, info in doctor_info.items():\n",
    "        for keyword in info[\"symptoms\"]:\n",
    "            if keyword in symptom:\n",
    "                state.doctor_recommendation = doctor\n",
    "                return {\"doctor_recommendation\": state.doctor_recommendation}\n",
    "\n",
    "    # Default\n",
    "    state.doctor_recommendation = \"Dr. Priya Patel (General Physician)\"\n",
    "    return {\"doctor_recommendation\": state.doctor_recommendation}\n"
   ]
  },
  {
   "cell_type": "code",
   "execution_count": 10,
   "metadata": {},
   "outputs": [],
   "source": [
    "def collect_missing_info(state:State) -> State:\n",
    "    return state"
   ]
  },
  {
   "cell_type": "code",
   "execution_count": 11,
   "metadata": {},
   "outputs": [],
   "source": [
    "def check_patient_history(state: State) -> State:\n",
    "    return state"
   ]
  },
  {
   "cell_type": "code",
   "execution_count": 12,
   "metadata": {},
   "outputs": [],
   "source": [
    "def check_existing_appointment(state: State) -> State:\n",
    "    return state"
   ]
  },
  {
   "cell_type": "code",
   "execution_count": 13,
   "metadata": {},
   "outputs": [],
   "source": [
    "def cancel_appointment(state: State) -> State:\n",
    "    return state"
   ]
  },
  {
   "cell_type": "code",
   "execution_count": 14,
   "metadata": {},
   "outputs": [],
   "source": [
    "def reschedule_appointment(state: State) -> State:\n",
    "    return state"
   ]
  },
  {
   "cell_type": "code",
   "execution_count": 15,
   "metadata": {},
   "outputs": [],
   "source": [
    "# from langchain.schema.output_parser import StrOutputParser\n",
    "# import re\n",
    "# # Prompt for extracting patient details\n",
    "# patient_prompt = ChatPromptTemplate.from_messages([\n",
    "#     (\"system\", \"You are a helpful assistant. Extract the patient's name, age, and symptoms from the following message. Respond in this format:\\n\\nName: <name>\\nAge: <age>\\nSymptoms: <symptoms>\"),\n",
    "#     (\"human\", \"{user_input}\")\n",
    "# ])\n",
    "\n",
    "# # Prompt for extracting appointment details\n",
    "# appointment_prompt = ChatPromptTemplate.from_messages([\n",
    "#     (\"system\", \"You are a helpful assistant. Extract the appointment date and time from the following message. Respond in this format:\\n\\nDate: <YYYY-MM-DD>\\nTime: <HH:MM>\"),\n",
    "#     (\"human\", \"{user_input}\")\n",
    "# ])\n",
    "\n",
    "# def collect_info_from_user_input(state: State) -> State:\n",
    "#     # Extract patient details if missing\n",
    "#     if not state.patient_details:\n",
    "#         chain = patient_prompt | llm | StrOutputParser()\n",
    "#         output = chain.invoke({\"user_input\": state.user_input})\n",
    "        \n",
    "#         match = re.search(r\"Name:\\s*(.+?)\\nAge:\\s*(\\d+)\\nSymptoms:\\s*(.+)\", output, re.I)\n",
    "#         if match:\n",
    "#             state.patient_details = PatientDetails(\n",
    "#                 name=match.group(1).strip(),\n",
    "#                 age=int(match.group(2)),\n",
    "#                 symptoms=match.group(3).strip()\n",
    "#             )\n",
    "\n",
    "#     # Extract appointment details if missing\n",
    "#     if not state.appointment_details:\n",
    "#         chain = appointment_prompt | llm | StrOutputParser()\n",
    "#         output = chain.invoke({\"user_input\": state.user_input})\n",
    "        \n",
    "#         match = re.search(r\"Date:\\s*(\\d{4}-\\d{2}-\\d{2})\\nTime:\\s*([\\d:apm\\s]+)\", output, re.I)\n",
    "#         if match:\n",
    "#             state.appointment_details = AppointmentDetails(\n",
    "#                 date=match.group(1).strip(),\n",
    "#                 time=match.group(2).strip()\n",
    "#             )\n",
    "\n",
    "#     return state"
   ]
  },
  {
   "cell_type": "code",
   "execution_count": 16,
   "metadata": {},
   "outputs": [],
   "source": [
    "def check_doctor_availability(state: State) -> State:\n",
    "    doctor = state.doctor_recommendation\n",
    "    date = state.appointment_details.date\n",
    "    requested_time = state.appointment_details.time\n",
    "\n",
    "    available_times = doctor_info.get(doctor, {}).get(\"schedule\", [])\n",
    "\n",
    "    # Fetch already booked times from DB\n",
    "    conn = sqlite3.connect(\"hospital.db\")\n",
    "    c = conn.cursor()\n",
    "    c.execute('''SELECT time FROM appointments WHERE doctor = ? AND date = ?''', (doctor, date))\n",
    "    booked_times = [row[0] for row in c.fetchall()]\n",
    "    conn.close()\n",
    "\n",
    "    free_times = [t for t in available_times if t not in booked_times]\n",
    "\n",
    "    # If user explicitly requested a time\n",
    "    # if requested_time:\n",
    "    if requested_time in free_times:\n",
    "        state.is_available = True\n",
    "    else:\n",
    "        state.is_available = False\n",
    "        state.final_response = f\"Sorry, the slot is already booked  {requested_time} on {date}.\"\n",
    "\n",
    "    return state\n"
   ]
  },
  {
   "cell_type": "code",
   "execution_count": 17,
   "metadata": {},
   "outputs": [],
   "source": [
    "def schedule_appointment(state: State) -> State:\n",
    "    if not state.is_available:\n",
    "        return state\n",
    "\n",
    "    name = state.patient_details.name or \"the patient\"\n",
    "    age = state.patient_details.age or 0\n",
    "    symptoms = state.patient_details.symptoms or \"N/A\"\n",
    "    date = state.appointment_details.date\n",
    "    time = state.appointment_details.time\n",
    "    doctor = state.doctor_recommendation\n",
    "    # Save in database\n",
    "    conn = sqlite3.connect(\"hospital.db\")\n",
    "    c = conn.cursor()\n",
    "    c.execute('''\n",
    "        INSERT INTO appointments (patient_name, age, symptoms, doctor, date, time)\n",
    "        VALUES (?, ?, ?, ?, ?, ?)\n",
    "    ''', (name, age, symptoms, doctor, date, time))\n",
    "    conn.commit()\n",
    "    conn.close()\n",
    "\n",
    "    state.final_response = (\n",
    "        f\"Appointment confirmed for {name} with {doctor} on {date} at {time}.\"\n",
    "    )\n",
    "    return state\n"
   ]
  },
  {
   "cell_type": "code",
   "execution_count": 19,
   "metadata": {},
   "outputs": [
    {
     "data": {
      "text/plain": [
       "<langgraph.graph.state.StateGraph at 0x2048a4df390>"
      ]
     },
     "execution_count": 19,
     "metadata": {},
     "output_type": "execute_result"
    }
   ],
   "source": [
    "from langgraph.graph import StateGraph,END\n",
    "workflow = StateGraph(State)\n",
    "\n",
    "workflow.add_node(\"state_initializer\", state_initializer)\n",
    "workflow.add_node(\"entity_extractor\", entity_extractor)\n",
    "workflow.add_node(\"intent_classifier\", intent_classifier)\n",
    "workflow.add_node(\"agent_router\", agent_router)\n",
    "workflow.add_node(\"collect_missing_info\",collect_missing_info)\n",
    "workflow.add_node(\"check_patient_history\",check_patient_history)\n",
    "workflow.add_node(\"check_existing_appointment\",check_existing_appointment)\n",
    "workflow.add_node(\"recommend_doctor\",recommend_doctor)\n",
    "workflow.add_node(\"cancel_appointment\",cancel_appointment)\n",
    "workflow.add_node(\"reschedule_appointment\",reschedule_appointment)\n",
    "# workflow.add_node(\"collect_info_from_user_input\", collect_info_from_user_input)\n",
    "workflow.add_node(\"check_doctor_availability\", check_doctor_availability)\n",
    "workflow.add_node(\"schedule_appointment\", schedule_appointment)\n",
    "\n",
    "workflow.set_entry_point(\"state_initializer\")\n",
    "workflow.add_edge(\"state_initializer\", \"entity_extractor\")\n",
    "workflow.add_edge(\"state_initializer\", \"intent_classifier\")\n",
    "\n",
    "workflow.add_edge(\"entity_extractor\", \"agent_router\")\n",
    "workflow.add_edge(\"intent_classifier\", \"agent_router\")\n",
    "\n",
    "workflow.add_conditional_edges(\n",
    "    \"agent_router\",\n",
    "    lambda state: state.next_action,\n",
    "    {\n",
    "        \"collect_missing_info\":\"collect_missing_info\",\n",
    "        \"check_patient_history\":\"check_patient_history\",\n",
    "        \"check_existing_appointment\":\"check_existing_appointment\",\n",
    "        \"cancel_appointment\":\"cancel_appointment\",\n",
    "        \"reschedule_appointment\":\"reschedule_appointment\"\n",
    "\n",
    "    }\n",
    ")\n",
    "workflow.add_edge(\"collect_missing_info\",\"recommend_doctor\")\n",
    "workflow.add_edge(\"check_patient_history\",\"recommend_doctor\")\n",
    "workflow.add_edge(\"check_existing_appointment\",\"recommend_doctor\")\n",
    "workflow.add_edge(\"cancel_appointment\",\"recommend_doctor\")\n",
    "workflow.add_edge(\"reschedule_appointment\",\"recommend_doctor\")\n",
    "\n",
    "workflow.add_edge(\"recommend_doctor\", \"check_doctor_availability\")\n",
    "workflow.add_edge(\"check_doctor_availability\", \"schedule_appointment\")\n",
    "workflow.add_edge(\"schedule_appointment\", END)"
   ]
  },
  {
   "cell_type": "code",
   "execution_count": 20,
   "metadata": {},
   "outputs": [],
   "source": [
    "app = workflow.compile()"
   ]
  },
  {
   "cell_type": "code",
   "execution_count": 21,
   "metadata": {},
   "outputs": [
    {
     "data": {
      "image/png": "[encoded data removed]",
      "text/plain": [
       "<IPython.core.display.Image object>"
      ]
     },
     "metadata": {},
     "output_type": "display_data"
    }
   ],
   "source": [
    "from IPython.display import Image, display\n",
    "from langchain_core.runnables.graph import MermaidDrawMethod\n",
    "\n",
    "display(\n",
    "    Image(\n",
    "        app.get_graph().draw_mermaid_png(\n",
    "            draw_method=MermaidDrawMethod.API,\n",
    "        )\n",
    "    )\n",
    ")"
   ]
  },
  {
   "cell_type": "code",
   "execution_count": 22,
   "metadata": {},
   "outputs": [
    {
     "data": {
      "text/plain": [
       "{'user_input': 'My name is Mahi my age is 28 and I need to see a doctor for cough on 22-03-2025 at 10:00',\n",
       " 'patient_details': PatientDetails(name='Mahi', age=28, symptoms='cough'),\n",
       " 'appointment_details': AppointmentDetails(date='2025-03-22', time='10:00'),\n",
       " 'intent': 'Intent: book_appointment\\n\\nExplanation: The user is providing their personal information (name and age) and expressing a need to see a doctor for a specific medical concern (cough) on a specific date (22-03-2025) and time (10:00). This clearly indicates they want to book a new appointment.',\n",
       " 'next_action': 'collect_missing_info',\n",
       " 'is_available': True,\n",
       " 'doctor_recommendation': 'Dr. Emily Wong (Pulmonologist)',\n",
       " 'final_response': 'Appointment confirmed for Mahi with Dr. Emily Wong (Pulmonologist) on 2025-03-22 at 10:00.'}"
      ]
     },
     "execution_count": 22,
     "metadata": {},
     "output_type": "execute_result"
    }
   ],
   "source": [
    "final_state = app.invoke({\"user_input\": \"My name is Mahi my age is 28 and I need to see a doctor for cough on 22-03-2025 at 10:00\"})\n",
    "final_state\n"
   ]
  },
  {
   "cell_type": "code",
   "execution_count": 23,
   "metadata": {},
   "outputs": [],
   "source": [
    "def check_appointments():\n",
    "    conn = sqlite3.connect(\"hospital.db\")\n",
    "    c = conn.cursor()\n",
    "    c.execute(\"SELECT * FROM appointments\")\n",
    "    rows = c.fetchall()\n",
    "    conn.close()\n",
    "\n",
    "    if rows:\n",
    "        print(\"Stored Appointments:\")\n",
    "        for row in rows:\n",
    "            print(row)\n",
    "    else:\n",
    "        print(\"No appointments found.\")\n"
   ]
  },
  {
   "cell_type": "code",
   "execution_count": 24,
   "metadata": {},
   "outputs": [
    {
     "name": "stdout",
     "output_type": "stream",
     "text": [
      "Stored Appointments:\n",
      "(1, 'Mahi', 28, 'cough', 'Dr. Emily Wong (Pulmonologist)', '2025-03-22', '10:00')\n"
     ]
    }
   ],
   "source": [
    "check_appointments()\n"
   ]
  }
 ],
 "metadata": {
  "kernelspec": {
   "display_name": "Python 3",
   "language": "python",
   "name": "python3"
  },
  "language_info": {
   "codemirror_mode": {
    "name": "ipython",
    "version": 3
   },
   "file_extension": ".py",
   "mimetype": "text/x-python",
   "name": "python",
   "nbconvert_exporter": "python",
   "pygments_lexer": "ipython3",
   "version": "3.13.2"
  }
 },
 "nbformat": 4,
 "nbformat_minor": 2
}
